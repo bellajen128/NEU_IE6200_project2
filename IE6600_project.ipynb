{
 "cells": [
  {
   "cell_type": "markdown",
   "metadata": {},
   "source": [
    "# Project proposal\n",
    "\n",
    "### Brief description\n",
    "\n",
    "The dataset contains purchase data from 2015-2016, covering categories such as Accessories, Bikes, and Clothing. It includes detailed transaction information, such as the price, cost, and the time each transaction was made. Additionally, customer information, such as gender, age, country, and state, is provided, enabling a deeper analysis of customer behavior and trends.\n",
    "\n",
    "**Research Questions**\n",
    "\n",
    "For this analysis, I am particularly interested in exploring the 'Revenue' column. I aim to examine the relationship between demographics and revenue, as well as the correlation between different time periods (e.g., half-year or quarterly) and revenue. This will help determine if spending patterns vary based on demographic factors or over time.\n",
    "\n",
    "**EDA Process:**\n",
    "\n",
    "During the exploratory data analysis (EDA), I noticed that the \"Product Category\" column shows that \"Accessories\" account for the majority of the transactions in the dataset. Despite this, there appears to be limited research or analysis available on accessories purchasing trends, particularly in online retail. Therefore, I believe that focusing on accessories purchases could yield valuable insights, especially when analyzed across different time periods or demographic segments.\n",
    "\n",
    "For the purchase data, I plan to compare the average spending (revenue) with the expected amount spent per transaction during a similar time period. This comparison will allow me to assess whether there have been any significant changes in accessories spending over time, using a one-sample t-test.\n",
    "\n",
    "Furthermore, it is often assumed that women tend to spend more than men. I will use visualizations and hypothesis testing to verify this assumption. If a significant difference is found, further hypothesis testing will be conducted to assess the significance of this difference between the two gender groups.\n",
    "\n",
    "**Data Preprocessing:**\n",
    "\n",
    "For the data preprocessing steps, I will begin by checking for any missing values or inconsistencies in data types. Following that, I will filter the dataset to focus specifically on \"Accessories\" data. Using the info() and describe() functions, I will generate a brief overview of the dataset to ensure the data is well-prepared for analysis.\n"
   ]
  },
  {
   "cell_type": "code",
   "execution_count": 173,
   "metadata": {},
   "outputs": [],
   "source": [
    "import pandas as pd\n",
    "import numpy as np\n",
    "import seaborn as sns\n",
    "import matplotlib.pyplot as plt\n",
    "import scipy.stats as stats\n",
    "import plotly.express as px\n",
    "import statsmodels.api as sm\n",
    "from statsmodels.formula.api import ols\n",
    "from statsmodels.stats.multicomp import pairwise_tukeyhsd\n",
    "\n",
    "\n"
   ]
  },
  {
   "cell_type": "markdown",
   "metadata": {},
   "source": [
    "### Loading data and data cleaning"
   ]
  },
  {
   "cell_type": "code",
   "execution_count": 174,
   "metadata": {},
   "outputs": [],
   "source": [
    "path = '/Users/bella/Desktop/NEU/IE6200Stats/Project/data'\n",
    "data = pd.read_csv(path + '/salesforcourse-4fe2kehu.csv')\n",
    "data = pd.DataFrame(data)\n"
   ]
  },
  {
   "cell_type": "code",
   "execution_count": 175,
   "metadata": {},
   "outputs": [
    {
     "name": "stdout",
     "output_type": "stream",
     "text": [
      "<class 'pandas.core.frame.DataFrame'>\n",
      "Index: 22534 entries, 0 to 34851\n",
      "Data columns (total 17 columns):\n",
      " #   Column            Non-Null Count  Dtype  \n",
      "---  ------            --------------  -----  \n",
      " 0   index             22534 non-null  int64  \n",
      " 1   Date              22534 non-null  object \n",
      " 2   Year              22534 non-null  int64  \n",
      " 3   Month             22534 non-null  object \n",
      " 4   Customer Age      22534 non-null  int64  \n",
      " 5   Customer Gender   22534 non-null  object \n",
      " 6   Country           22534 non-null  object \n",
      " 7   State             22534 non-null  object \n",
      " 8   Product Category  22534 non-null  object \n",
      " 9   Sub Category      22534 non-null  object \n",
      " 10  Quantity          22534 non-null  int64  \n",
      " 11  Unit Cost         22534 non-null  float64\n",
      " 12  Unit Price        22534 non-null  float64\n",
      " 13  Cost              22534 non-null  int64  \n",
      " 14  Revenue           22534 non-null  int64  \n",
      " 15  year_h            22534 non-null  object \n",
      " 16  Quarter           22534 non-null  object \n",
      "dtypes: float64(2), int64(6), object(9)\n",
      "memory usage: 3.1+ MB\n",
      "None\n",
      "              index          Year  Customer Age      Quantity     Unit Cost  \\\n",
      "count  22534.000000  22534.000000  22534.000000  22534.000000  22534.000000   \n",
      "mean   17845.056714   2015.590974     36.568874      1.999112    163.208464   \n",
      "std    10114.849091      0.491665     11.529456      0.811754    215.505591   \n",
      "min        0.000000   2015.000000     17.000000      1.000000      0.670000   \n",
      "25%     9262.250000   2015.000000     28.000000      1.000000     30.000000   \n",
      "50%    18093.000000   2016.000000     35.000000      2.000000     75.000000   \n",
      "75%    26538.750000   2016.000000     44.000000      3.000000    217.500000   \n",
      "max    34851.000000   2016.000000     87.000000      3.000000   3240.000000   \n",
      "\n",
      "         Unit Price          Cost       Revenue  \n",
      "count  22534.000000  22534.000000  22534.000000  \n",
      "mean     200.457368    268.123502    329.309665  \n",
      "std      270.175962    300.715302    377.175059  \n",
      "min        0.666667      2.000000      2.000000  \n",
      "25%       36.000000     60.000000     70.000000  \n",
      "50%       90.000000    130.000000    159.000000  \n",
      "75%      265.250000    420.000000    499.000000  \n",
      "max     5082.000000   3600.000000   5082.000000  \n"
     ]
    }
   ],
   "source": [
    "data = data[data['Product Category'] == 'Accessories']\n",
    "\n",
    "print(data.info())\n",
    "print(data.describe())"
   ]
  },
  {
   "cell_type": "markdown",
   "metadata": {},
   "source": [
    "## Visualization\n",
    "\n",
    "### Compare distributions of spending across H1 and H2 (log scale)\n",
    "\n",
    "**Revenue**: the amount per customer spent per transaction\n",
    "\n",
    "**year_h**: the first half year (H1) and the second half year (H2)\n",
    "\n",
    "**Result** \n",
    "\n",
    "Comparing the spending (revenue) between the first and second halves of the year, we observe that the revenue in the first half of the year (H1) is usually slightly higher than that in the second half (H2). However, the difference is not significant. Additionally, it is evident that there are more instances of high-revenue transactions occurring in the first half of the year, suggesting that certain periods within H1 may drive a higher volume of spending."
   ]
  },
  {
   "cell_type": "code",
   "execution_count": 176,
   "metadata": {},
   "outputs": [
    {
     "name": "stderr",
     "output_type": "stream",
     "text": [
      "/var/folders/14/9h283kqx58z105l23gk4_w740000gn/T/ipykernel_16658/3195546083.py:7: FutureWarning:\n",
      "\n",
      "\n",
      "\n",
      "Passing `palette` without assigning `hue` is deprecated and will be removed in v0.14.0. Assign the `y` variable to `hue` and set `legend=False` for the same effect.\n",
      "\n",
      "\n"
     ]
    },
    {
     "data": {
      "image/png": "[encoded data removed]",
      "text/plain": [
       "<Figure size 1000x600 with 1 Axes>"
      ]
     },
     "metadata": {},
     "output_type": "display_data"
    }
   ],
   "source": [
    "data_1 = data[['Revenue', 'year_h']]\n",
    "\n",
    "sns.set_style(\"whitegrid\")\n",
    "sns.set_palette(\"Set2\")  \n",
    "\n",
    "plt.figure(figsize=(10, 6))  \n",
    "sns.boxplot(x='Revenue', y='year_h', data=data_1, notch=True, width=0.6, saturation=0.8, palette='Set2')\n",
    "\n",
    "plt.xscale('log')\n",
    "plt.xticks(fontsize=10, rotation=45) \n",
    "plt.yticks(fontsize=10)\n",
    "\n",
    "plt.title('Spending by Time Period', fontsize=14, weight='bold', pad=15)\n",
    "plt.xlabel('Revenue (Log Scale)', fontsize=12, labelpad=10)\n",
    "plt.ylabel('Time Period (Year_H)', fontsize=12, labelpad=10)\n",
    "\n",
    "plt.grid(visible=True, axis='x', linestyle='--', linewidth=0.5, alpha=0.7)\n",
    "\n",
    "plt.tight_layout()\n",
    "plt.show()"
   ]
  },
  {
   "cell_type": "markdown",
   "metadata": {},
   "source": [
    "### Overall trend for Spending (log scale)\n",
    "\n",
    "**Revenue**: the amount per customer spent per transaction\n",
    "\n",
    "**Frequency**: Number of transaction\n",
    "\n",
    "**Result**\n",
    "\n",
    "Most of the transactions are below $100, indicating that customers typically spend less than $100 on accessories. This suggests that accessories are generally lower-cost items, making them more affordable and appealing to a wider range of customers.\n"
   ]
  },
  {
   "cell_type": "code",
   "execution_count": 165,
   "metadata": {},
   "outputs": [
    {
     "data": {
      "image/png": "[encoded data removed]",
      "text/plain": [
       "<Figure size 1000x600 with 1 Axes>"
      ]
     },
     "metadata": {},
     "output_type": "display_data"
    }
   ],
   "source": [
    "sns.set_style(\"whitegrid\")  \n",
    "sns.set_palette(\"muted\")   \n",
    "\n",
    "plt.figure(figsize=(10, 6)) \n",
    "sns.histplot(data['Revenue'], kde=True, color='skyblue', edgecolor='black', linewidth=0.5)\n",
    "\n",
    "plt.xscale('log')\n",
    "plt.xticks(fontsize=10, rotation=45) \n",
    "plt.yticks(fontsize=10)           \n",
    "\n",
    "plt.title('Distribution of Spending', fontsize=14, weight='bold', pad=15)\n",
    "plt.xlabel('Revenue (Log Scale)', fontsize=12, labelpad=10)\n",
    "plt.ylabel('Frequency', fontsize=12, labelpad=10)\n",
    "\n",
    "plt.grid(visible=True, which='both', linestyle='--', linewidth=0.5, alpha=0.7)\n",
    "\n",
    "plt.tight_layout()\n",
    "plt.show()\n"
   ]
  },
  {
   "cell_type": "markdown",
   "metadata": {},
   "source": [
    "### Overall trend for Spending by Gender and Age group\n",
    "\n",
    "**Result:**\n",
    "\n",
    "Among the four age groups, we observe that in the 17–30 age group, men spend more on average than women. In contrast, for the 31–45 and 46–60 age groups, the spending difference between men and women is relatively small. For individuals aged 60 and above, women tend to spend more than men, with an average difference of approximately $50. This pattern suggests that spending behaviors may vary significantly depending on both age and gender."
   ]
  },
  {
   "cell_type": "code",
   "execution_count": 168,
   "metadata": {},
   "outputs": [
    {
     "name": "stderr",
     "output_type": "stream",
     "text": [
      "/var/folders/14/9h283kqx58z105l23gk4_w740000gn/T/ipykernel_16658/4214525383.py:5: FutureWarning:\n",
      "\n",
      "The default of observed=False is deprecated and will be changed to True in a future version of pandas. Pass observed=False to retain current behavior or observed=True to adopt the future default and silence this warning.\n",
      "\n"
     ]
    },
    {
     "data": {
      "image/png": "[encoded data removed]",
      "text/plain": [
       "<Figure size 1000x600 with 1 Axes>"
      ]
     },
     "metadata": {},
     "output_type": "display_data"
    }
   ],
   "source": [
    "bins = [17, 30, 45, 60, 87]  \n",
    "labels = [\"17-30\", \"31-45\", \"46-60\", \"60+\"]  \n",
    "data['Age Group'] = pd.cut(data['Customer Age'], bins=bins, labels=labels, right=False)\n",
    "\n",
    "agg_df = data.groupby(['Age Group', 'Customer Gender'])['Revenue'].mean().unstack()\n",
    "\n",
    "agg_df.plot(kind='bar', figsize=(10, 6), width=0.8)\n",
    "\n",
    "plt.title('Revenue by Gender and Age Group')\n",
    "plt.xlabel('Age Group')\n",
    "plt.ylabel('Revenue')\n",
    "plt.xticks(rotation=0)\n",
    "plt.legend(title='Gender')\n",
    "plt.tight_layout()\n",
    "\n",
    "plt.show()"
   ]
  },
  {
   "cell_type": "markdown",
   "metadata": {},
   "source": [
    "### Heatmap for transaction by country (Only consider US, UK, France, Germany)\n",
    "\n",
    "**Result:** \n",
    "\n",
    "Since the dataset only includes data from four countries, we calculated the average spending per transaction by country and visualized the results on a heatmap. From the analysis, we observe that customers from Europe, specifically Germany and France, tend to spend more on accessories, with an average of around $400 per transaction. In contrast, customers from the United States and the United Kingdom generally spend less, with an average of approximately $300 per transaction. This highlights potential regional differences in spending habits on accessories, which could be influenced by factors such as purchasing power, cultural preferences, or product availability."
   ]
  },
  {
   "cell_type": "code",
   "execution_count": 169,
   "metadata": {},
   "outputs": [
    {
     "data": {
      "application/vnd.plotly.v1+json": {
       "config": {
        "plotlyServerURL": "https://plot.ly"
       },
       "data": [
        {
         "coloraxis": "coloraxis",
         "geo": "geo",
         "hovertemplate": "Country=%{location}<br>Revenue=%{z}<extra></extra>",
         "locationmode": "country names",
         "locations": [
          "France",
          "Germany",
          "United Kingdom",
          "United States"
         ],
         "name": "",
         "type": "choropleth",
         "z": [
          333.7919829942302,
          402.940625,
          328.4114400401405,
          308.8369141435089
         ]
        }
       ],
       "layout": {
        "coloraxis": {
         "colorbar": {
          "title": {
           "text": "Revenue"
          }
         },
         "colorscale": [
          [
           0,
           "#440154"
          ],
          [
           0.1111111111111111,
           "#482878"
          ],
          [
           0.2222222222222222,
           "#3e4989"
          ],
          [
           0.3333333333333333,
           "#31688e"
          ],
          [
           0.4444444444444444,
           "#26828e"
          ],
          [
           0.5555555555555556,
           "#1f9e89"
          ],
          [
           0.6666666666666666,
           "#35b779"
          ],
          [
           0.7777777777777778,
           "#6ece58"
          ],
          [
           0.8888888888888888,
           "#b5de2b"
          ],
          [
           1,
           "#fde725"
          ]
         ]
        },
        "geo": {
         "center": {},
         "domain": {
          "x": [
           0,
           1
          ],
          "y": [
           0,
           1
          ]
         }
        },
        "legend": {
         "tracegroupgap": 0
        },
        "template": {
         "data": {
          "bar": [
           {
            "error_x": {
             "color": "#2a3f5f"
            },
            "error_y": {
             "color": "#2a3f5f"
            },
            "marker": {
             "line": {
              "color": "#E5ECF6",
              "width": 0.5
             },
             "pattern": {
              "fillmode": "overlay",
              "size": 10,
              "solidity": 0.2
             }
            },
            "type": "bar"
           }
          ],
          "barpolar": [
           {
            "marker": {
             "line": {
              "color": "#E5ECF6",
              "width": 0.5
             },
             "pattern": {
              "fillmode": "overlay",
              "size": 10,
              "solidity": 0.2
             }
            },
            "type": "barpolar"
           }
          ],
          "carpet": [
           {
            "aaxis": {
             "endlinecolor": "#2a3f5f",
             "gridcolor": "white",
             "linecolor": "white",
             "minorgridcolor": "white",
             "startlinecolor": "#2a3f5f"
            },
            "baxis": {
             "endlinecolor": "#2a3f5f",
             "gridcolor": "white",
             "linecolor": "white",
             "minorgridcolor": "white",
             "startlinecolor": "#2a3f5f"
            },
            "type": "carpet"
           }
          ],
          "choropleth": [
           {
            "colorbar": {
             "outlinewidth": 0,
             "ticks": ""
            },
            "type": "choropleth"
           }
          ],
          "contour": [
           {
            "colorbar": {
             "outlinewidth": 0,
             "ticks": ""
            },
            "colorscale": [
             [
              0,
              "#0d0887"
             ],
             [
              0.1111111111111111,
              "#46039f"
             ],
             [
              0.2222222222222222,
              "#7201a8"
             ],
             [
              0.3333333333333333,
              "#9c179e"
             ],
             [
              0.4444444444444444,
              "#bd3786"
             ],
             [
              0.5555555555555556,
              "#d8576b"
             ],
             [
              0.6666666666666666,
              "#ed7953"
             ],
             [
              0.7777777777777778,
              "#fb9f3a"
             ],
             [
              0.8888888888888888,
              "#fdca26"
             ],
             [
              1,
              "#f0f921"
             ]
            ],
            "type": "contour"
           }
          ],
          "contourcarpet": [
           {
            "colorbar": {
             "outlinewidth": 0,
             "ticks": ""
            },
            "type": "contourcarpet"
           }
          ],
          "heatmap": [
           {
            "colorbar": {
             "outlinewidth": 0,
             "ticks": ""
            },
            "colorscale": [
             [
              0,
              "#0d0887"
             ],
             [
              0.1111111111111111,
              "#46039f"
             ],
             [
              0.2222222222222222,
              "#7201a8"
             ],
             [
              0.3333333333333333,
              "#9c179e"
             ],
             [
              0.4444444444444444,
              "#bd3786"
             ],
             [
              0.5555555555555556,
              "#d8576b"
             ],
             [
              0.6666666666666666,
              "#ed7953"
             ],
             [
              0.7777777777777778,
              "#fb9f3a"
             ],
             [
              0.8888888888888888,
              "#fdca26"
             ],
             [
              1,
              "#f0f921"
             ]
            ],
            "type": "heatmap"
           }
          ],
          "heatmapgl": [
           {
            "colorbar": {
             "outlinewidth": 0,
             "ticks": ""
            },
            "colorscale": [
             [
              0,
              "#0d0887"
             ],
             [
              0.1111111111111111,
              "#46039f"
             ],
             [
              0.2222222222222222,
              "#7201a8"
             ],
             [
              0.3333333333333333,
              "#9c179e"
             ],
             [
              0.4444444444444444,
              "#bd3786"
             ],
             [
              0.5555555555555556,
              "#d8576b"
             ],
             [
              0.6666666666666666,
              "#ed7953"
             ],
             [
              0.7777777777777778,
              "#fb9f3a"
             ],
             [
              0.8888888888888888,
              "#fdca26"
             ],
             [
              1,
              "#f0f921"
             ]
            ],
            "type": "heatmapgl"
           }
          ],
          "histogram": [
           {
            "marker": {
             "pattern": {
              "fillmode": "overlay",
              "size": 10,
              "solidity": 0.2
             }
            },
            "type": "histogram"
           }
          ],
          "histogram2d": [
           {
            "colorbar": {
             "outlinewidth": 0,
             "ticks": ""
            },
            "colorscale": [
             [
              0,
              "#0d0887"
             ],
             [
              0.1111111111111111,
              "#46039f"
             ],
             [
              0.2222222222222222,
              "#7201a8"
             ],
             [
              0.3333333333333333,
              "#9c179e"
             ],
             [
              0.4444444444444444,
              "#bd3786"
             ],
             [
              0.5555555555555556,
              "#d8576b"
             ],
             [
              0.6666666666666666,
              "#ed7953"
             ],
             [
              0.7777777777777778,
              "#fb9f3a"
             ],
             [
              0.8888888888888888,
              "#fdca26"
             ],
             [
              1,
              "#f0f921"
             ]
            ],
            "type": "histogram2d"
           }
          ],
          "histogram2dcontour": [
           {
            "colorbar": {
             "outlinewidth": 0,
             "ticks": ""
            },
            "colorscale": [
             [
              0,
              "#0d0887"
             ],
             [
              0.1111111111111111,
              "#46039f"
             ],
             [
              0.2222222222222222,
              "#7201a8"
             ],
             [
              0.3333333333333333,
              "#9c179e"
             ],
             [
              0.4444444444444444,
              "#bd3786"
             ],
             [
              0.5555555555555556,
              "#d8576b"
             ],
             [
              0.6666666666666666,
              "#ed7953"
             ],
             [
              0.7777777777777778,
              "#fb9f3a"
             ],
             [
              0.8888888888888888,
              "#fdca26"
             ],
             [
              1,
              "#f0f921"
             ]
            ],
            "type": "histogram2dcontour"
           }
          ],
          "mesh3d": [
           {
            "colorbar": {
             "outlinewidth": 0,
             "ticks": ""
            },
            "type": "mesh3d"
           }
          ],
          "parcoords": [
           {
            "line": {
             "colorbar": {
              "outlinewidth": 0,
              "ticks": ""
             }
            },
            "type": "parcoords"
           }
          ],
          "pie": [
           {
            "automargin": true,
            "type": "pie"
           }
          ],
          "scatter": [
           {
            "fillpattern": {
             "fillmode": "overlay",
             "size": 10,
             "solidity": 0.2
            },
            "type": "scatter"
           }
          ],
          "scatter3d": [
           {
            "line": {
             "colorbar": {
              "outlinewidth": 0,
              "ticks": ""
             }
            },
            "marker": {
             "colorbar": {
              "outlinewidth": 0,
              "ticks": ""
             }
            },
            "type": "scatter3d"
           }
          ],
          "scattercarpet": [
           {
            "marker": {
             "colorbar": {
              "outlinewidth": 0,
              "ticks": ""
             }
            },
            "type": "scattercarpet"
           }
          ],
          "scattergeo": [
           {
            "marker": {
             "colorbar": {
              "outlinewidth": 0,
              "ticks": ""
             }
            },
            "type": "scattergeo"
           }
          ],
          "scattergl": [
           {
            "marker": {
             "colorbar": {
              "outlinewidth": 0,
              "ticks": ""
             }
            },
            "type": "scattergl"
           }
          ],
          "scattermapbox": [
           {
            "marker": {
             "colorbar": {
              "outlinewidth": 0,
              "ticks": ""
             }
            },
            "type": "scattermapbox"
           }
          ],
          "scatterpolar": [
           {
            "marker": {
             "colorbar": {
              "outlinewidth": 0,
              "ticks": ""
             }
            },
            "type": "scatterpolar"
           }
          ],
          "scatterpolargl": [
           {
            "marker": {
             "colorbar": {
              "outlinewidth": 0,
              "ticks": ""
             }
            },
            "type": "scatterpolargl"
           }
          ],
          "scatterternary": [
           {
            "marker": {
             "colorbar": {
              "outlinewidth": 0,
              "ticks": ""
             }
            },
            "type": "scatterternary"
           }
          ],
          "surface": [
           {
            "colorbar": {
             "outlinewidth": 0,
             "ticks": ""
            },
            "colorscale": [
             [
              0,
              "#0d0887"
             ],
             [
              0.1111111111111111,
              "#46039f"
             ],
             [
              0.2222222222222222,
              "#7201a8"
             ],
             [
              0.3333333333333333,
              "#9c179e"
             ],
             [
              0.4444444444444444,
              "#bd3786"
             ],
             [
              0.5555555555555556,
              "#d8576b"
             ],
             [
              0.6666666666666666,
              "#ed7953"
             ],
             [
              0.7777777777777778,
              "#fb9f3a"
             ],
             [
              0.8888888888888888,
              "#fdca26"
             ],
             [
              1,
              "#f0f921"
             ]
            ],
            "type": "surface"
           }
          ],
          "table": [
           {
            "cells": {
             "fill": {
              "color": "#EBF0F8"
             },
             "line": {
              "color": "white"
             }
            },
            "header": {
             "fill": {
              "color": "#C8D4E3"
             },
             "line": {
              "color": "white"
             }
            },
            "type": "table"
           }
          ]
         },
         "layout": {
          "annotationdefaults": {
           "arrowcolor": "#2a3f5f",
           "arrowhead": 0,
           "arrowwidth": 1
          },
          "autotypenumbers": "strict",
          "coloraxis": {
           "colorbar": {
            "outlinewidth": 0,
            "ticks": ""
           }
          },
          "colorscale": {
           "diverging": [
            [
             0,
             "#8e0152"
            ],
            [
             0.1,
             "#c51b7d"
            ],
            [
             0.2,
             "#de77ae"
            ],
            [
             0.3,
             "#f1b6da"
            ],
            [
             0.4,
             "#fde0ef"
            ],
            [
             0.5,
             "#f7f7f7"
            ],
            [
             0.6,
             "#e6f5d0"
            ],
            [
             0.7,
             "#b8e186"
            ],
            [
             0.8,
             "#7fbc41"
            ],
            [
             0.9,
             "#4d9221"
            ],
            [
             1,
             "#276419"
            ]
           ],
           "sequential": [
            [
             0,
             "#0d0887"
            ],
            [
             0.1111111111111111,
             "#46039f"
            ],
            [
             0.2222222222222222,
             "#7201a8"
            ],
            [
             0.3333333333333333,
             "#9c179e"
            ],
            [
             0.4444444444444444,
             "#bd3786"
            ],
            [
             0.5555555555555556,
             "#d8576b"
            ],
            [
             0.6666666666666666,
             "#ed7953"
            ],
            [
             0.7777777777777778,
             "#fb9f3a"
            ],
            [
             0.8888888888888888,
             "#fdca26"
            ],
            [
             1,
             "#f0f921"
            ]
           ],
           "sequentialminus": [
            [
             0,
             "#0d0887"
            ],
            [
             0.1111111111111111,
             "#46039f"
            ],
            [
             0.2222222222222222,
             "#7201a8"
            ],
            [
             0.3333333333333333,
             "#9c179e"
            ],
            [
             0.4444444444444444,
             "#bd3786"
            ],
            [
             0.5555555555555556,
             "#d8576b"
            ],
            [
             0.6666666666666666,
             "#ed7953"
            ],
            [
             0.7777777777777778,
             "#fb9f3a"
            ],
            [
             0.8888888888888888,
             "#fdca26"
            ],
            [
             1,
             "#f0f921"
            ]
           ]
          },
          "colorway": [
           "#636efa",
           "#EF553B",
           "#00cc96",
           "#ab63fa",
           "#FFA15A",
           "#19d3f3",
           "#FF6692",
           "#B6E880",
           "#FF97FF",
           "#FECB52"
          ],
          "font": {
           "color": "#2a3f5f"
          },
          "geo": {
           "bgcolor": "white",
           "lakecolor": "white",
           "landcolor": "#E5ECF6",
           "showlakes": true,
           "showland": true,
           "subunitcolor": "white"
          },
          "hoverlabel": {
           "align": "left"
          },
          "hovermode": "closest",
          "mapbox": {
           "style": "light"
          },
          "paper_bgcolor": "white",
          "plot_bgcolor": "#E5ECF6",
          "polar": {
           "angularaxis": {
            "gridcolor": "white",
            "linecolor": "white",
            "ticks": ""
           },
           "bgcolor": "#E5ECF6",
           "radialaxis": {
            "gridcolor": "white",
            "linecolor": "white",
            "ticks": ""
           }
          },
          "scene": {
           "xaxis": {
            "backgroundcolor": "#E5ECF6",
            "gridcolor": "white",
            "gridwidth": 2,
            "linecolor": "white",
            "showbackground": true,
            "ticks": "",
            "zerolinecolor": "white"
           },
           "yaxis": {
            "backgroundcolor": "#E5ECF6",
            "gridcolor": "white",
            "gridwidth": 2,
            "linecolor": "white",
            "showbackground": true,
            "ticks": "",
            "zerolinecolor": "white"
           },
           "zaxis": {
            "backgroundcolor": "#E5ECF6",
            "gridcolor": "white",
            "gridwidth": 2,
            "linecolor": "white",
            "showbackground": true,
            "ticks": "",
            "zerolinecolor": "white"
           }
          },
          "shapedefaults": {
           "line": {
            "color": "#2a3f5f"
           }
          },
          "ternary": {
           "aaxis": {
            "gridcolor": "white",
            "linecolor": "white",
            "ticks": ""
           },
           "baxis": {
            "gridcolor": "white",
            "linecolor": "white",
            "ticks": ""
           },
           "bgcolor": "#E5ECF6",
           "caxis": {
            "gridcolor": "white",
            "linecolor": "white",
            "ticks": ""
           }
          },
          "title": {
           "x": 0.05
          },
          "xaxis": {
           "automargin": true,
           "gridcolor": "white",
           "linecolor": "white",
           "ticks": "",
           "title": {
            "standoff": 15
           },
           "zerolinecolor": "white",
           "zerolinewidth": 2
          },
          "yaxis": {
           "automargin": true,
           "gridcolor": "white",
           "linecolor": "white",
           "ticks": "",
           "title": {
            "standoff": 15
           },
           "zerolinecolor": "white",
           "zerolinewidth": 2
          }
         }
        },
        "title": {
         "text": "Geographic Sales Heatmap"
        }
       }
      }
     },
     "metadata": {},
     "output_type": "display_data"
    }
   ],
   "source": [
    "country_revenue = data.groupby('Country')['Revenue'].mean().reset_index()\n",
    "\n",
    "fig = px.choropleth(\n",
    "    country_revenue,\n",
    "    locations='Country',          \n",
    "    locationmode='country names',   \n",
    "    color='Revenue',                \n",
    "    title='Geographic Sales Heatmap',\n",
    "    color_continuous_scale='Viridis' \n",
    ")\n",
    "\n",
    "fig.show()"
   ]
  },
  {
   "cell_type": "markdown",
   "metadata": {},
   "source": [
    "### Confidence Intervals\n",
    "\n",
    "**Confidence Intervals:**\n",
    "\n",
    "Males, on average, spend slightly more than females. The confidence intervals for male and female spending overlap slightly, suggesting that while there is a difference in average spending, it may not be statistically significant.\n",
    "\n",
    "**Range of Spending Estimates:**\n",
    "\n",
    "For females, the 95% confidence interval indicates that the true mean spending lies between $317.16 and $331.04. For males, the 95% confidence interval shows that the true mean spending lies between $328.70 and $342.95. These intervals are relatively narrow, which reflects the precision of the estimates due to a large sample size.\n",
    "\n",
    "**Implications:**\n",
    "\n",
    "Although males seem to spend more on average, the overlap in confidence intervals suggests that the observed difference may not be substantial or could be influenced by other factors such as product preferences, age, or regional variations. Further statistical testing (e.g., a two-sample t-test) might be required to determine if the difference is statistically significant. In conclusion, while there is evidence that males might spend more, the marginal difference warrants deeper analysis to identify other potential contributing factors."
   ]
  },
  {
   "cell_type": "code",
   "execution_count": 170,
   "metadata": {},
   "outputs": [
    {
     "name": "stdout",
     "output_type": "stream",
     "text": [
      "Female (All): 11042\n",
      "Male (All): 11492\n",
      "Female (First 11000): 11000\n",
      "Male (First 11000): 11000\n",
      "F Mean: 324.10118181818183, Confidence Interval: (np.float64(317.1590097928093), np.float64(331.04335384355437))\n",
      "M Mean: 335.82236363636366, Confidence Interval: (np.float64(328.6957923628808), np.float64(342.9489349098465))\n"
     ]
    }
   ],
   "source": [
    "# checking the data row count by gender\n",
    "print('Female (All):',(data['Customer Gender'] == 'F').sum())  \n",
    "print('Male (All):', (data['Customer Gender'] == 'M').sum()) \n",
    "\n",
    "# only get the first 11000 rows\n",
    "result = data.groupby('Customer Gender').head(11000)\n",
    "\n",
    "print('Female (First 11000):',(result['Customer Gender'] == 'F').sum())  \n",
    "print('Male (First 11000):', (result['Customer Gender'] == 'M').sum()) \n",
    "\n",
    "df = result\n",
    "spending_F = df[df['Customer Gender'] == 'F']['Revenue']\n",
    "spending_M = df[df['Customer Gender'] == 'M']['Revenue']\n",
    "\n",
    "def calculate_ci(data, confidence=0.95):\n",
    "    mean = data.mean()\n",
    "    sem = stats.sem(data)  # Standard error of the mean\n",
    "    ci = stats.t.interval(confidence, len(data)-1, loc=mean, scale=sem)\n",
    "    return mean, ci\n",
    "\n",
    "F_mean, F_ci = calculate_ci(spending_F)\n",
    "M_mean, M_ci = calculate_ci(spending_M)\n",
    "\n",
    "print(f\"F Mean: {F_mean}, Confidence Interval: {F_ci}\")\n",
    "print(f\"M Mean: {M_mean}, Confidence Interval: {M_ci}\")\n"
   ]
  },
  {
   "cell_type": "markdown",
   "metadata": {},
   "source": [
    "### Hypothesis Testing\n",
    "**One-Sample t-Test**\n",
    "\n",
    "**Background**\n",
    "\n",
    "\n",
    "After reviewing the purchase data for accessories, we observed that in 2015–2016, the average spending was approximately $329. However, when compared to the average spending in the U.S. in 2021, we noticed a significant drop, with an average of just $117 spent on accessories—almost three times lower than the 2015–2016 figure. Therefore, I decided to conduct a one-sample t-test to determine whether this difference is statistically significant or if it might be attributed to other factors, making it insignificant.\n",
    "\n",
    "**Hypothesis:**\n",
    "\n",
    "H0: μ(average sample mean) = 117 \n",
    "\n",
    "Ha: μ != 117\n",
    "\n",
    "**Result**\n",
    "\n",
    "1. The t-statistic value of 84.50 indicates how many standard deviations the sample mean is from the target mean of $117.\n",
    "\n",
    "2. A p-value of 0.0 indicates that the probability of observing a sample mean this extreme under the null hypothesis is virtually zero.\n",
    "\n",
    "3. With a p-value < 0.05, we reject the null hypothesis.\n",
    "This means the average revenue in my dataset is statistically significantly different from the target mean of $117.\n",
    "\n",
    "4. Since the t-statistic is extremely large, it suggests that the sample mean is much higher than the target mean of $117.\n",
    "Given the large sample size (22,000 samples), this conclusion is robust and unlikely to be due to random variation."
   ]
  },
  {
   "cell_type": "code",
   "execution_count": 171,
   "metadata": {},
   "outputs": [
    {
     "name": "stdout",
     "output_type": "stream",
     "text": [
      "Average Spending 329.309665394515\n",
      "One-Sample T-Test: T-statistic = 84.49790538517095, P-value = 0.0\n"
     ]
    }
   ],
   "source": [
    "target_mean = 117 # In 2021, the average American household spent $117 on accessories per transaction\n",
    "spending = data['Revenue']\n",
    "print('Average Spending', spending.mean())\n",
    "\n",
    "t_stat, p_value = stats.ttest_1samp(spending, target_mean)\n",
    "print(f\"One-Sample T-Test: T-statistic = {t_stat}, P-value = {p_value}\")\n"
   ]
  },
  {
   "cell_type": "markdown",
   "metadata": {},
   "source": [
    "**Two-Sample t-Test**"
   ]
  },
  {
   "cell_type": "markdown",
   "metadata": {},
   "source": [
    "**Background:**\n",
    "\n",
    "We can easily notice that people tend to shop more during holidays and discount seasons. Based on this observation, we assume that people are likely to spend more in November and December, driven by events such as Black Friday, Cyber Monday, and the holiday shopping season.\n",
    "\n",
    "1. Mean Spending:\n",
    "This suggests that average spending in H1 is higher than in H2 by approximately $36.34.\n",
    "\n",
    "2. T-Statistic: 7.14\n",
    "This value indicates a significant difference between the two groups.\n",
    "\n",
    "3. P-Value: 9.65e-13\n",
    "The p-value is far below the conventional significance level of 0.05, meaning the difference is highly statistically significant.\n",
    "\n",
    "**Hypothesis:**\n",
    "\n",
    "N0: μ1 = μ2 (There is no difference in the mean revenue between H1 and H2.)\n",
    "\n",
    "Na: μ1 != μ2 (There is a difference in the mean revenue between H1 and H2.)\n",
    "\n",
    "\n",
    "**Result**\n",
    "\n",
    "While November and December are known for high spending due to holidays and discounts, the result indicates that, overall, H1 spending exceeds H2 spending. This could be attributed to other factors, such as seasonal promotions or events in H1 (e.g., New Year, Valentine's Day).\n",
    "\n",
    "Since the p-value is far below 0.05, we reject the null hypothesis and accept the alternative hypothesis. This means that there is a significant difference in the mean spending between the first and second halves of the year."
   ]
  },
  {
   "cell_type": "code",
   "execution_count": 156,
   "metadata": {},
   "outputs": [
    {
     "name": "stdout",
     "output_type": "stream",
     "text": [
      "346.52421914147317\n",
      "310.18132854578096\n",
      "T-statistic: 7.139675934600029, P-value: 9.64612538713877e-13\n"
     ]
    }
   ],
   "source": [
    "h1_spending = df[df['year_h'] == 'H1']['Revenue']\n",
    "h2_spending = df[df['year_h'] == 'H2']['Revenue']\n",
    "\n",
    "print(h1_spending.mean())\n",
    "print(h2_spending.mean())\n",
    "\n",
    "\n",
    "t_stat, p_value = stats.ttest_ind(h1_spending, h2_spending)\n",
    "print(f\"T-statistic: {t_stat}, P-value: {p_value}\")"
   ]
  },
  {
   "cell_type": "markdown",
   "metadata": {},
   "source": [
    "### ANOVA comparing the first half year and second half year spending on accessories."
   ]
  },
  {
   "cell_type": "markdown",
   "metadata": {},
   "source": [
    "**Background:**\n",
    "\n",
    "To gain deeper insights into spending behavior, we decided to analyze the data with a finer granularity by dividing the year into four quarters. This allows us to examine spending patterns in each quarter and evaluate the relationships between the groups. By comparing spending data across these quarters, we can identify seasonal trends, variations, and any significant differences in consumer behavior throughout the year.\n",
    "\n",
    "**Hypothesis:**\n",
    "\n",
    "H0: μ₁ = μ₂ = μ₃ = μ₄, where μ represents the mean revenue in each quarter. (The mean revenue is the same across all four quarters.)\n",
    "\n",
    "Ha: Not all means are equal. (The mean revenue is different between at least two of the quarters.)\n",
    "\n",
    "**Result**\n",
    "\n",
    "Since the p-value is much smaller than the typical significance level of 0.05, we can reject the null hypothesis. Statistically significant difference exists in the revenue across the four quarters. The p-value being extremely small means we can confidently conclude that the revenue in different quarters is not the same and that at least one quarter has a significantly different revenue compared to the others"
   ]
  },
  {
   "cell_type": "code",
   "execution_count": 157,
   "metadata": {},
   "outputs": [
    {
     "name": "stdout",
     "output_type": "stream",
     "text": [
      "F-statistic: 17.067489676393766, P-value: 4.58716662865538e-11\n"
     ]
    }
   ],
   "source": [
    "# print('A:',(data[data['Quarter'] == 'Q1']['index']).count())  \n",
    "# print('B:',(data[data['Quarter'] == 'Q2']['index']).count())  \n",
    "# print('C:',(data[data['Quarter'] == 'Q3']['index']).count())  \n",
    "# print('D:',(data[data['Quarter'] == 'Q4']['index']).count())  \n",
    "\n",
    "# only get the first 4500 rows\n",
    "result_1 = data.groupby('Quarter').head(4500)\n",
    "\n",
    "q1_spending = result_1[result_1['Quarter'] == 'Q1']['Revenue']\n",
    "q2_spending = result_1[result_1['Quarter'] == 'Q2']['Revenue']\n",
    "q3_spending = result_1[result_1['Quarter'] == 'Q3']['Revenue']\n",
    "q4_spending = result_1[result_1['Quarter'] == 'Q4']['Revenue']\n",
    "\n",
    "f_stat, p_value = stats.f_oneway(q1_spending, q2_spending, q3_spending, q4_spending)\n",
    "print(f\"F-statistic: {f_stat}, P-value: {p_value}\")"
   ]
  },
  {
   "cell_type": "markdown",
   "metadata": {},
   "source": [
    "### Apply Tukey's test for further discussion\n",
    "\n",
    "**Interpretation:**\n",
    "\n",
    "Q1 vs. Q2: No evidence of a spending difference.\n",
    "\n",
    "Q3 vs. Q4: No evidence of a significant difference.\n",
    "\n",
    "Q1, Q2 vs. Q3, Q4: Significant differences in spending between earlier and later quarters, suggesting that spending decreased in Q3 and Q4 compared to Q1 and Q2.\n",
    "\n",
    "\n",
    "**Conclusions:**\n",
    "\n",
    "Spending Decreases in Later Quarters: There is a clear trend where spending in Q3 and Q4 is significantly lower compared to Q1 and Q2, especially between Q1/Q2 vs. Q3/Q4.\n",
    "\n",
    "Q1 and Q2 Are Similar: There is no significant difference between Q1 and Q2 in terms of spending.\n",
    "\n",
    "Q3 and Q4: While Q3 has lower spending than Q1 and Q2, it is not significantly different from Q4, suggesting similar patterns in these two quarters."
   ]
  },
  {
   "cell_type": "code",
   "execution_count": 172,
   "metadata": {},
   "outputs": [
    {
     "name": "stdout",
     "output_type": "stream",
     "text": [
      "\n",
      "ANOVA Table:\n",
      "               df        sum_sq       mean_sq         F        PR(>F)\n",
      "Quarter       3.0  7.287573e+06  2.429191e+06  17.06749  4.587167e-11\n",
      "Residual  17996.0  2.561344e+09  1.423285e+05       NaN           NaN\n",
      "\n",
      "Tukey's Test Results:\n",
      " Multiple Comparison of Means - Tukey HSD, FWER=0.05  \n",
      "======================================================\n",
      "group1 group2 meandiff p-adj   lower    upper   reject\n",
      "------------------------------------------------------\n",
      "    Q1     Q2  11.2662 0.4889  -9.1683  31.7008  False\n",
      "    Q1     Q3 -26.8187 0.0042 -47.2532  -6.3841   True\n",
      "    Q1     Q4 -38.9267    0.0 -59.3612 -18.4921   True\n",
      "    Q2     Q3 -38.0849    0.0 -58.5194 -17.6504   True\n",
      "    Q2     Q4 -50.1929    0.0 -70.6274 -29.7584   True\n",
      "    Q3     Q4  -12.108  0.424 -32.5425   8.3265  False\n",
      "------------------------------------------------------\n"
     ]
    },
    {
     "data": {
      "image/png": "[encoded data removed]",
      "text/plain": [
       "<Figure size 1000x600 with 1 Axes>"
      ]
     },
     "metadata": {},
     "output_type": "display_data"
    }
   ],
   "source": [
    "model = ols('Revenue ~ (Quarter)', data=result_1).fit()\n",
    "anova_table = sm.stats.anova_lm(model)\n",
    "\n",
    "print(\"\\nANOVA Table:\")\n",
    "print(anova_table)\n",
    "\n",
    "\n",
    "tukey_results = pairwise_tukeyhsd(result_1['Revenue'], result_1['Quarter'], alpha=0.05)\n",
    "\n",
    "print(\"\\nTukey's Test Results:\")\n",
    "print(tukey_results)\n",
    "\n",
    "tukey_results.plot_simultaneous()\n",
    "plt.title(\"Tukey's HSD Test Results\")\n",
    "plt.show()\n"
   ]
  },
  {
   "cell_type": "markdown",
   "metadata": {},
   "source": [
    "# Conclusion\n",
    "\n",
    "1. One-sample t-test\n",
    "We can use a one-sample t-test to test whether a sample mean differs from a known or hypothesized value. For instance, we can search for historical or expected mean values for a specific column and use that value to verify whether our assumption is correct. Sometimes, the sample mean we calculate may appear to be far from the target value; however, by conducting a one-sample t-test, we can determine if the observed difference is statistically significant or if it's within an acceptable range, indicating that the difference may not be meaningful. In my case, we can see that μ is not statistically significantly different from the target mean of $117.\n",
    "\n",
    "2. 2-sample t-test\n",
    "2-sample t-test usually uses to test difference between two groups. I used it to test if the difference between the first and second halves of the year, and the result shows an extremely small p-value. Thus we rejected H0 and concluded that there's significant difference between the first and second halves of the year.\n",
    "\n",
    "3. ANOVA\n",
    "We used ANOVA to test the significance among different groups. I divided the data into four categories, with Jan, Feb, Mar as Q1; Apr, May, Jun as Q2...etc, to have a finer grouping for the ANOVA test. The result shows that the p-value is quite small thus we rejected H0 which implies that we're having statistically significant difference among group. After conducting Tukey's test, we confirmed that the most significant differences are observed between Q1 and Q3, Q1 and Q4, and Q2 and Q4. These comparisons suggest that spending decreases in the later quarters of the year, particularly in Q3 and Q4."
   ]
  },
  {
   "cell_type": "code",
   "execution_count": null,
   "metadata": {},
   "outputs": [],
   "source": []
  }
 ],
 "metadata": {
  "kernelspec": {
   "display_name": "Python 3",
   "language": "python",
   "name": "python3"
  },
  "language_info": {
   "codemirror_mode": {
    "name": "ipython",
    "version": 3
   },
   "file_extension": ".py",
   "mimetype": "text/x-python",
   "name": "python",
   "nbconvert_exporter": "python",
   "pygments_lexer": "ipython3",
   "version": "3.9.6"
  }
 },
 "nbformat": 4,
 "nbformat_minor": 2
}
